{
  "cells": [
    {
      "cell_type": "markdown",
      "source": [
        "# Quantization aware training of LSM using a Differentiable Quantization Function\n",
        "\n",
        "### Submission by Abhijat Bharadwaj (210020002), Animesh Kumar (21D070012), Aditya Kumar Roy (21D070012)"
      ],
      "metadata": {
        "id": "Sf2FGaICTpWl"
      }
    },
    {
      "cell_type": "code",
      "execution_count": 68,
      "metadata": {
        "id": "IiqIptgrfMNH"
      },
      "outputs": [],
      "source": [
        "# !pip install snntorch\n",
        "# !pip install tonic"
      ]
    },
    {
      "cell_type": "code",
      "execution_count": 69,
      "metadata": {
        "id": "yP9LW9hwfps9"
      },
      "outputs": [],
      "source": [
        "# from google.colab import drive\n",
        "# drive.mount('/content/drive')"
      ]
    },
    {
      "cell_type": "code",
      "execution_count": 70,
      "metadata": {
        "id": "cK1StmZKfqa-"
      },
      "outputs": [],
      "source": [
        "import sys\n",
        "sys.path.insert(0,'/content')"
      ]
    },
    {
      "cell_type": "code",
      "source": [
        "#Set device\n",
        "#device = torch.device(\"mps\") if torch.backends.mps.is_available() else torch.device(\"cpu\")\n",
        "device = torch.device(\"cuda\") if torch.cuda.is_available() else torch.device(\"cpu\")\n",
        "print(device)"
      ],
      "metadata": {
        "colab": {
          "base_uri": "https://localhost:8080/"
        },
        "id": "n6PuGJdUqgb4",
        "outputId": "5717fa50-6a9f-4bed-cea6-ccea6d36853e"
      },
      "execution_count": 71,
      "outputs": [
        {
          "output_type": "stream",
          "name": "stdout",
          "text": [
            "cpu\n"
          ]
        }
      ]
    },
    {
      "cell_type": "markdown",
      "source": [
        "### Imports"
      ],
      "metadata": {
        "id": "Gku-MLCIUqLB"
      }
    },
    {
      "cell_type": "code",
      "execution_count": 72,
      "metadata": {
        "id": "iSeg9V5KfRZZ"
      },
      "outputs": [],
      "source": [
        "import tonic\n",
        "from tonic import DiskCachedDataset\n",
        "import tonic.transforms as transforms\n",
        "import torch\n",
        "from torch.utils.data import DataLoader\n",
        "import torchvision\n",
        "import torch.nn as nn\n",
        "import snntorch as snn\n",
        "\n",
        "import numpy as np\n",
        "from sklearn import linear_model\n",
        "import time\n",
        "\n",
        "import matplotlib.pyplot as plt"
      ]
    },
    {
      "cell_type": "markdown",
      "source": [
        "### Differentiable Quantization Function"
      ],
      "metadata": {
        "id": "1LKg_yVEUP70"
      }
    },
    {
      "cell_type": "code",
      "source": [
        "# defining funtions for QAT\n",
        "\n",
        "def sigmoid(T,x):\n",
        "  return 1/(1+np.exp(-1*T*x))\n",
        "\n",
        "def unitStep(x):\n",
        "  val = np.where(x >= 0, 1, 0)\n",
        "  return val\n",
        "\n",
        "def quantization_function(alpha = 1, beta = 1, wt=1, b=np.arange(-25,25,1), s=[1.0]*50, T=0, operation = \"sigmoid\"):\n",
        "  # s array represents the difference\n",
        "  # between adjacent quantization levels\n",
        "  # b array defines their border.\n",
        "  o = 0.5*np.sum(s)\n",
        "  wq=0\n",
        "  if len(b) != len (s):\n",
        "    raise Exception(f\"length of b and s are different. len-b = {len(b)}. len-s = {len(s)}\")\n",
        "  if operation == \"unitStep\":\n",
        "    for i in range(len(b)):\n",
        "      wq+=s[i]*unitStep(beta*wt - b[i])\n",
        "    wq -=o\n",
        "  elif operation == \"sigmoid\":\n",
        "    for i in range(len(b)):\n",
        "      wq+=s[i]*sigmoid(T, beta*wt - b[i])\n",
        "    wq -=o\n",
        "  return np.float32(alpha*wq)\n"
      ],
      "metadata": {
        "id": "gaHKCPxxab1g"
      },
      "execution_count": 90,
      "outputs": []
    },
    {
      "cell_type": "code",
      "source": [
        "x = np.arange(-50,50,0.01)\n",
        "y = quantization_function(\n",
        "    wt = x,\n",
        "    T = 8,\n",
        "    b=np.arange(-25,25,5),\n",
        "    s=[1.0]*10,\n",
        ")\n",
        "z = quantization_function(\n",
        "    wt = x,\n",
        "    operation = \"unitStep\",\n",
        "    b=np.arange(-25,25,5),\n",
        "    s=[1.0]*10,\n",
        ")\n",
        "\n",
        "plt.plot(x,y, label = \"sigmoid (T=8)\")\n",
        "plt.plot(x,z, label = \"unitStep\" )\n",
        "plt.legend()"
      ],
      "metadata": {
        "colab": {
          "base_uri": "https://localhost:8080/",
          "height": 448
        },
        "id": "WTImL62TgQWa",
        "outputId": "c99c9e6c-3109-4d12-fe0e-2cb35728ecd1"
      },
      "execution_count": 92,
      "outputs": [
        {
          "output_type": "execute_result",
          "data": {
            "text/plain": [
              "<matplotlib.legend.Legend at 0x7e9b36358580>"
            ]
          },
          "metadata": {},
          "execution_count": 92
        },
        {
          "output_type": "display_data",
          "data": {
            "text/plain": [
              "<Figure size 640x480 with 1 Axes>"
            ],
            "image/png": "[encoded data removed]"
          },
          "metadata": {}
        }
      ]
    },
    {
      "cell_type": "markdown",
      "source": [
        "### lsm_weight_definitions.py"
      ],
      "metadata": {
        "id": "nCdSVZUFUU4I"
      }
    },
    {
      "cell_type": "code",
      "source": [
        "#LSM Weight Definitions\n",
        "\n",
        "def initWeights1(LqWin, LqWlsm, in_conn_density, in_size, lam=9, inh_fr=0.2, Nx=10, Ny=10, Nz=10, init_Wlsm=True, W_lsm=None):\n",
        "    N = Nx*Ny*Nz\n",
        "    W_in = np.zeros((in_size,N))\n",
        "    in_conn_range = np.int32(N*in_conn_density)\n",
        "\n",
        "    for i in range(in_size):\n",
        "        input_perm_i = np.arange(N)\n",
        "        np.random.shuffle(input_perm_i)\n",
        "        pos_conn = input_perm_i[:in_conn_range]\n",
        "        neg_conn = input_perm_i[-in_conn_range:]\n",
        "        W_in[i,pos_conn] = LqWin\n",
        "        W_in[i,neg_conn] = -LqWin\n",
        "\n",
        "    input_perm = np.arange(N)\n",
        "    np.random.shuffle(input_perm) # first 0.2*N indices are inhibitory\n",
        "    inh_range = np.int32(inh_fr*N) # indices 0 to inh_range-1 are inhibitory\n",
        "\n",
        "    if init_Wlsm:\n",
        "        W_lsm = np.zeros((N,N))\n",
        "        for i in range(N):\n",
        "            posti = input_perm[i] # input_perm[i] is the post-neuron index\n",
        "            zi = posti//(Nx*Ny)\n",
        "            yi = (posti-zi*Nx*Ny)//Nx\n",
        "            xi = (posti-zi*Nx*Ny)%Nx\n",
        "        for j in range(N):\n",
        "            prej = input_perm[j] # input_perm[j] is the pre-neuron index\n",
        "            zj = prej//(Nx*Ny)\n",
        "            yj = (prej-zj*Nx*Ny)//Nx\n",
        "            xj = (prej-zj*Nx*Ny)%Nx\n",
        "            D = ((xi-xj)**2 + (yi-yj)**2 + (zi-zj)**2)\n",
        "            if i<inh_range and j<inh_range: # II connection, C = 0.3\n",
        "                P = 0.3*np.exp(-D/lam)\n",
        "                Pu1 = np.random.uniform()\n",
        "                if Pu1<P:\n",
        "                    W_lsm[prej,posti] = -LqWlsm\n",
        "            if i<inh_range and j>=inh_range: # EI connection, C = 0.1\n",
        "                P = 0.1*np.exp(-D/lam)\n",
        "                Pu1 = np.random.uniform()\n",
        "                if Pu1<P:\n",
        "                    W_lsm[prej,posti] = LqWlsm\n",
        "            if i>=inh_range and j<inh_range: # IE connection, C = 0.05\n",
        "                P = 0.05*np.exp(-D/lam)\n",
        "                Pu1 = np.random.uniform()\n",
        "                if Pu1<P:\n",
        "                    W_lsm[prej,posti] = -LqWlsm\n",
        "            if i>=inh_range and j>=inh_range: # EE connection, C = 0.2\n",
        "                P = 0.2*np.exp(-D/lam)\n",
        "                Pu1 = np.random.uniform()\n",
        "                if Pu1<P:\n",
        "                    W_lsm[prej,posti] = LqWlsm\n",
        "\n",
        "        for i in range(N):\n",
        "            W_lsm[i,i] = 0\n",
        "\n",
        "    return W_in.T,W_lsm.T #need to transpose matrices for compatibility with torch nn linear\n"
      ],
      "metadata": {
        "id": "m8QN22wRV2JI"
      },
      "execution_count": 75,
      "outputs": []
    },
    {
      "cell_type": "markdown",
      "source": [
        "### Extended from lsm_models.py"
      ],
      "metadata": {
        "id": "_lyGVVVAUd4j"
      }
    },
    {
      "cell_type": "code",
      "source": [
        "## LSM NN Model\n",
        "class LSM(nn.Module):\n",
        "    Temp = 0.1\n",
        "    def __init__(self, N, in_sz, Win, Wlsm, alpha=0.9, beta=0.9, th=20):\n",
        "        super().__init__()\n",
        "        self.fc1 = nn.Linear(in_sz, N)\n",
        "        self.fc1.weight = nn.Parameter(torch.from_numpy(Win))\n",
        "        self.lsm = snn.RSynaptic(alpha=alpha, beta=beta, all_to_all=True, linear_features=N, threshold=th)\n",
        "        self.lsm.recurrent.weight = nn.Parameter(torch.from_numpy(Wlsm))\n",
        "        self.Temp = 0.1\n",
        "    def increaseT(self, increment):\n",
        "        self.Temp += increment\n",
        "    def forward(self, x):\n",
        "        num_steps = x.size(0)\n",
        "        spk, syn, mem = self.lsm.init_rsynaptic()\n",
        "        spk_rec = []\n",
        "        self.fc1.weight = nn.Parameter(torch.from_numpy(quantization_function(\n",
        "            wt=Win,\n",
        "            T=self.Temp,\n",
        "        )))\n",
        "        self.lsm.recurrent.weight = nn.Parameter(torch.from_numpy(quantization_function(\n",
        "            wt=Wlsm,\n",
        "            T=self.Temp,\n",
        "        )))\n",
        "        for step in range(num_steps):\n",
        "            curr = self.fc1(x[step])\n",
        "            spk, syn, mem = self.lsm(curr, spk, syn, mem)\n",
        "            spk_rec.append(spk)\n",
        "        spk_rec_out = torch.stack(spk_rec)\n",
        "        return spk_rec_out"
      ],
      "metadata": {
        "id": "PyPyB1EtVwf4"
      },
      "execution_count": 76,
      "outputs": []
    },
    {
      "cell_type": "markdown",
      "source": [
        "### Initializing dataset"
      ],
      "metadata": {
        "id": "4tYHfAiGUwgA"
      }
    },
    {
      "cell_type": "code",
      "source": [
        "\n",
        "\n",
        "#Load dataset (Using NMNIST here)\n",
        "sensor_size = tonic.datasets.NMNIST.sensor_size\n",
        "frame_transform = transforms.Compose([transforms.Denoise(filter_time=3000),\n",
        "                                      transforms.ToFrame(sensor_size=sensor_size,time_window=1000)])\n",
        "\n",
        "trainset = tonic.datasets.NMNIST(save_to='./data', transform=frame_transform, train=True)\n",
        "testset = tonic.datasets.NMNIST(save_to='./data', transform=frame_transform, train=False)\n",
        "\n",
        "cached_trainset = DiskCachedDataset(trainset, cache_path='./cache/nmnist/train')\n",
        "cached_testset = DiskCachedDataset(testset, cache_path='./cache/nmnist/test')\n",
        "\n",
        "batch_size = 256\n",
        "trainloader = DataLoader(cached_trainset, batch_size=batch_size, collate_fn=tonic.collation.PadTensors(batch_first=False), shuffle=True)\n",
        "testloader = DataLoader(cached_testset, batch_size=batch_size, collate_fn=tonic.collation.PadTensors(batch_first=False))"
      ],
      "metadata": {
        "id": "t-CiRraJk1g9"
      },
      "execution_count": 77,
      "outputs": []
    },
    {
      "cell_type": "markdown",
      "source": [
        "### Initializing Neuron Parameters"
      ],
      "metadata": {
        "id": "MXl_anO4U5qw"
      }
    },
    {
      "cell_type": "code",
      "source": [
        "data, targets = next(iter(trainloader))\n",
        "flat_data = torch.reshape(data, (data.shape[0], data.shape[1], -1))\n",
        "print(flat_data.shape)\n",
        "\n",
        "in_sz = flat_data.shape[-1]\n",
        "\n",
        "#Set neuron parameters\n",
        "tauV = 16.0\n",
        "tauI = 16.0\n",
        "th = 20\n",
        "curr_prefac = np.float32(1/tauI)\n",
        "alpha = np.float32(np.exp(-1/tauI))\n",
        "beta = np.float32(1 - 1/tauV)\n",
        "\n",
        "Win, Wlsm = initWeights1(27, 2, 0.15, in_sz)\n",
        "N = Wlsm.shape[0]\n",
        "lsm_net = LSM(N, in_sz, np.float32(curr_prefac*Win), np.float32(curr_prefac*Wlsm), alpha=alpha, beta=beta, th=th).to(device)\n",
        "lsm_net.eval()"
      ],
      "metadata": {
        "colab": {
          "base_uri": "https://localhost:8080/"
        },
        "id": "SktgXdJYjVg4",
        "outputId": "8340fdcc-4c6f-4226-ed2c-f4248c7887f7"
      },
      "execution_count": 78,
      "outputs": [
        {
          "output_type": "stream",
          "name": "stdout",
          "text": [
            "torch.Size([309, 256, 2312])\n"
          ]
        },
        {
          "output_type": "execute_result",
          "data": {
            "text/plain": [
              "LSM(\n",
              "  (fc1): Linear(in_features=2312, out_features=1000, bias=True)\n",
              "  (lsm): RSynaptic(\n",
              "    (recurrent): Linear(in_features=1000, out_features=1000, bias=True)\n",
              "  )\n",
              ")"
            ]
          },
          "metadata": {},
          "execution_count": 78
        }
      ]
    },
    {
      "cell_type": "markdown",
      "source": [
        "### Comparision of initialized weights and quantized form"
      ],
      "metadata": {
        "id": "nWD_W80aU9uU"
      }
    },
    {
      "cell_type": "code",
      "source": [
        "array1 = Win  # Replace this with your first 2D array\n",
        "array2 =quantization_function(\n",
        "    wt = Win,\n",
        "    operation = \"sigmoid\",\n",
        "    T=2.5\n",
        ")\n",
        "\n",
        "# Extract x and y coordinates from each array\n",
        "x1, y1 = array1[:, 0], array1[:, 1]\n",
        "x2, y2 = array2[:, 0], array2[:, 1]\n",
        "\n",
        "plt.scatter(x1, y1, label='Win', marker='o')\n",
        "plt.scatter(x2, y2, label='Qunatized Win', marker='x')\n",
        "\n",
        "# Customize the plot\n",
        "plt.title('Scatter Plot (2D numpy) of WEIGHTS and Quantized WEIGHTS')\n",
        "plt.xlabel('X-axis')\n",
        "plt.ylabel('Y-axis')\n",
        "plt.legend()\n",
        "plt.grid(True)\n"
      ],
      "metadata": {
        "colab": {
          "base_uri": "https://localhost:8080/",
          "height": 472
        },
        "id": "H3eitP4e3qXd",
        "outputId": "2016c69f-1fd8-4c20-a155-231706c3c644"
      },
      "execution_count": 79,
      "outputs": [
        {
          "output_type": "display_data",
          "data": {
            "text/plain": [
              "<Figure size 640x480 with 1 Axes>"
            ],
            "image/png": "[encoded data removed]"
          },
          "metadata": {}
        }
      ]
    },
    {
      "cell_type": "markdown",
      "source": [
        "### Train and Test"
      ],
      "metadata": {
        "id": "lvbHqqNCVRbH"
      }
    },
    {
      "cell_type": "code",
      "source": [
        "#Run with no_grad for LSM\n",
        "with torch.no_grad():\n",
        "    start_time = time.time()\n",
        "    for i, (data, targets) in enumerate(iter(trainloader)):\n",
        "        print(i)\n",
        "        if i%25 == 24:\n",
        "            print(\"train batches completed: \", i)\n",
        "\n",
        "        lsm_net.increaseT(0.1)\n",
        "        flat_data = torch.reshape(data, (data.shape[0], data.shape[1], -1)).to(device)\n",
        "        spk_rec = lsm_net(flat_data)\n",
        "        lsm_out = torch.mean(spk_rec, dim=0)\n",
        "        if i==0:\n",
        "            in_train = torch.mean(flat_data, dim=0).cpu().numpy()\n",
        "            lsm_out_train = lsm_out.cpu().numpy()\n",
        "            lsm_label_train = np.int32(targets.numpy())\n",
        "        else:\n",
        "            in_train = np.concatenate((in_train, torch.mean(flat_data, dim=0).cpu().numpy()), axis=0)\n",
        "            lsm_out_train = np.concatenate((lsm_out_train, lsm_out.cpu().numpy()), axis=0)\n",
        "            lsm_label_train = np.concatenate((lsm_label_train, np.int32(targets.numpy())), axis=0)\n",
        "    end_time = time.time()\n",
        "\n",
        "    print(\"running time of training epoch: \", end_time - start_time, \"seconds\")\n",
        "\n",
        "    for i, (data, targets) in enumerate(iter(testloader)):\n",
        "        if i%25 == 24:\n",
        "            print(\"test batches completed: \", i)\n",
        "\n",
        "        flat_data = torch.reshape(data, (data.shape[0], data.shape[1], -1)).to(device)\n",
        "        lsm_net.eval()\n",
        "        spk_rec = lsm_net(flat_data)\n",
        "        lsm_out = torch.mean(spk_rec, dim=0)\n",
        "        if i==0:\n",
        "            in_test = torch.mean(flat_data, dim=0).cpu().numpy()\n",
        "            lsm_out_test = lsm_out.cpu().numpy()\n",
        "            lsm_label_test = np.int32(targets.numpy())\n",
        "        else:\n",
        "            in_test = np.concatenate((in_test, torch.mean(flat_data, dim=0).cpu().numpy()), axis=0)\n",
        "            lsm_out_test = np.concatenate((lsm_out_test, lsm_out.cpu().numpy()), axis=0)\n",
        "            lsm_label_test = np.concatenate((lsm_label_test, np.int32(targets.numpy())), axis=0)"
      ],
      "metadata": {
        "colab": {
          "base_uri": "https://localhost:8080/"
        },
        "id": "5sbGEZdXlBQ7",
        "outputId": "afe2ffd3-6068-49d1-ec4b-9cec73194eb8"
      },
      "execution_count": 80,
      "outputs": [
        {
          "output_type": "stream",
          "name": "stdout",
          "text": [
            "0\n",
            "1\n",
            "2\n",
            "3\n",
            "4\n",
            "5\n",
            "6\n",
            "7\n",
            "8\n",
            "9\n",
            "10\n",
            "11\n",
            "12\n",
            "13\n",
            "14\n",
            "15\n",
            "16\n",
            "17\n",
            "18\n",
            "19\n",
            "20\n",
            "21\n",
            "22\n",
            "23\n",
            "24\n",
            "train batches completed:  24\n",
            "25\n",
            "26\n",
            "27\n",
            "28\n",
            "29\n",
            "30\n",
            "31\n",
            "32\n",
            "33\n",
            "34\n",
            "35\n",
            "36\n",
            "37\n",
            "38\n",
            "39\n",
            "40\n",
            "41\n",
            "42\n",
            "43\n",
            "44\n",
            "45\n",
            "46\n",
            "47\n",
            "48\n",
            "49\n",
            "train batches completed:  49\n",
            "50\n",
            "51\n",
            "52\n",
            "53\n",
            "54\n",
            "55\n",
            "56\n",
            "57\n",
            "58\n",
            "59\n",
            "60\n",
            "61\n",
            "62\n",
            "63\n",
            "64\n",
            "65\n",
            "66\n",
            "67\n",
            "68\n",
            "69\n",
            "70\n",
            "71\n",
            "72\n",
            "73\n",
            "74\n",
            "train batches completed:  74\n",
            "75\n",
            "76\n",
            "77\n",
            "78\n",
            "79\n",
            "80\n",
            "81\n",
            "82\n",
            "83\n",
            "84\n",
            "85\n",
            "86\n",
            "87\n",
            "88\n",
            "89\n",
            "90\n",
            "91\n",
            "92\n",
            "93\n",
            "94\n",
            "95\n",
            "96\n",
            "97\n",
            "98\n",
            "99\n",
            "train batches completed:  99\n",
            "100\n",
            "101\n",
            "102\n",
            "103\n",
            "104\n",
            "105\n",
            "106\n",
            "107\n",
            "108\n",
            "109\n",
            "110\n",
            "111\n",
            "112\n",
            "113\n",
            "114\n",
            "115\n",
            "116\n",
            "117\n",
            "118\n",
            "119\n",
            "120\n",
            "121\n",
            "122\n",
            "123\n",
            "124\n",
            "train batches completed:  124\n",
            "125\n",
            "126\n",
            "127\n",
            "128\n",
            "129\n",
            "130\n",
            "131\n",
            "132\n",
            "133\n",
            "134\n",
            "135\n",
            "136\n",
            "137\n",
            "138\n"
          ]
        },
        {
          "output_type": "stream",
          "name": "stderr",
          "text": [
            "<ipython-input-73-a4bf7b7d54aa>:4: RuntimeWarning: overflow encountered in exp\n",
            "  return 1/(1+np.exp(-1*T*x))\n"
          ]
        },
        {
          "output_type": "stream",
          "name": "stdout",
          "text": [
            "139\n",
            "140\n",
            "141\n",
            "142\n",
            "143\n",
            "144\n",
            "145\n",
            "146\n",
            "147\n",
            "148\n",
            "149\n",
            "train batches completed:  149\n",
            "150\n",
            "151\n",
            "152\n",
            "153\n",
            "154\n",
            "155\n",
            "156\n",
            "157\n",
            "158\n",
            "159\n",
            "160\n",
            "161\n",
            "162\n",
            "163\n",
            "164\n",
            "165\n",
            "166\n",
            "167\n",
            "168\n",
            "169\n",
            "170\n",
            "171\n",
            "172\n",
            "173\n",
            "174\n",
            "train batches completed:  174\n",
            "175\n",
            "176\n",
            "177\n",
            "178\n",
            "179\n",
            "180\n",
            "181\n",
            "182\n",
            "183\n",
            "184\n",
            "185\n",
            "186\n",
            "187\n",
            "188\n",
            "189\n",
            "190\n",
            "191\n",
            "192\n",
            "193\n",
            "194\n",
            "195\n",
            "196\n",
            "197\n",
            "198\n",
            "199\n",
            "train batches completed:  199\n",
            "200\n",
            "201\n",
            "202\n",
            "203\n",
            "204\n",
            "205\n",
            "206\n",
            "207\n",
            "208\n",
            "209\n",
            "210\n",
            "211\n",
            "212\n",
            "213\n",
            "214\n",
            "215\n",
            "216\n",
            "217\n",
            "218\n",
            "219\n",
            "220\n",
            "221\n",
            "222\n",
            "223\n",
            "224\n",
            "train batches completed:  224\n",
            "225\n",
            "226\n",
            "227\n",
            "228\n",
            "229\n",
            "230\n",
            "231\n",
            "232\n",
            "233\n",
            "234\n",
            "running time of training epoch:  5849.296909332275 seconds\n",
            "test batches completed:  24\n"
          ]
        }
      ]
    },
    {
      "cell_type": "code",
      "source": [
        "print(lsm_out_train.shape)\n",
        "print(lsm_out_test.shape)\n",
        "\n",
        "print(in_train.shape)\n",
        "print(in_test.shape)\n",
        "\n",
        "print(\"mean in spiking (train) : \", np.mean(in_train))\n",
        "print(\"mean in spiking (test) : \", np.mean(in_test))\n",
        "\n",
        "print(\"mean LSM spiking (train) : \", np.mean(lsm_out_train))\n",
        "print(\"mean LSM spiking (test) : \", np.mean(lsm_out_test))\n",
        "\n",
        "print(\"training linear model:\")\n",
        "clf = linear_model.SGDClassifier(max_iter=10000, tol=1e-6)\n",
        "clf.fit(lsm_out_train, lsm_label_train)\n",
        "\n",
        "score = clf.score(lsm_out_test, lsm_label_test)\n",
        "print(\"test score = \" + str(score))"
      ],
      "metadata": {
        "colab": {
          "base_uri": "https://localhost:8080/"
        },
        "id": "p5684JumlHYq",
        "outputId": "3fe17cc4-a343-45e3-d0c4-7f801d10a5a4"
      },
      "execution_count": 81,
      "outputs": [
        {
          "output_type": "stream",
          "name": "stdout",
          "text": [
            "(60000, 1000)\n",
            "(10000, 1000)\n",
            "(60000, 2312)\n",
            "(10000, 2312)\n",
            "mean in spiking (train) :  0.004516701\n",
            "mean in spiking (test) :  0.0045433217\n",
            "mean LSM spiking (train) :  0.99746835\n",
            "mean LSM spiking (test) :  0.9973991\n",
            "training linear model:\n",
            "test score = 0.0974\n"
          ]
        }
      ]
    }
  ],
  "metadata": {
    "accelerator": "GPU",
    "colab": {
      "gpuType": "T4",
      "provenance": []
    },
    "kernelspec": {
      "display_name": "Python 3",
      "name": "python3"
    },
    "language_info": {
      "name": "python",
      "version": "3.10.6"
    }
  },
  "nbformat": 4,
  "nbformat_minor": 0
}